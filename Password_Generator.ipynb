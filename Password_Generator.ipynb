{
  "nbformat": 4,
  "nbformat_minor": 0,
  "metadata": {
    "colab": {
      "provenance": [],
      "authorship_tag": "ABX9TyPLcc7AAiW04WHHvR+AE8fH"
    },
    "kernelspec": {
      "name": "python3",
      "display_name": "Python 3"
    },
    "language_info": {
      "name": "python"
    }
  },
  "cells": [
    {
      "cell_type": "code",
      "source": [
        "# try code\n",
        "print(\"Welcome to the Password Generator\")\n",
        "l = int(input(\"How many letter would you like in your password? \"))\n",
        "c = int(input(\"How many symbol would you like? \"))\n",
        "n = int(input(\"How many number would you like? \"))\n",
        "\n",
        "rand_pass(l,c,n)"
      ],
      "metadata": {
        "colab": {
          "base_uri": "https://localhost:8080/"
        },
        "id": "vvoDvUkykgLx",
        "outputId": "ab3ad24f-e254-4bd7-c414-d62b88f74211"
      },
      "execution_count": 2,
      "outputs": [
        {
          "output_type": "stream",
          "name": "stdout",
          "text": [
            "Welcome to the Password Generator\n",
            "How many letter would you like in your password? 3\n",
            "How many symbol would you like? 4\n",
            "How many number would you like? 1\n",
            "\n",
            "Your password is\n",
            ")Rb$h8!#\n"
          ]
        }
      ]
    },
    {
      "cell_type": "code",
      "execution_count": 1,
      "metadata": {
        "id": "mf2IK3mskU2C"
      },
      "outputs": [],
      "source": [
        "# Function\n",
        "import random\n",
        "import string \n",
        "\n",
        "def rand_pass(l_size, c_size, n_size) :\n",
        "  symbols = ['!', '#', '$', '%', '&', '(', ')', '*', '+']\n",
        "  \n",
        "  #choose random item in ascii lettern in size loop\n",
        "  generate_l = ([random.choice(string.ascii_letters) for n in range(l_size)])\n",
        "  generate_c = ([random.choice(symbols) for n in range(c_size)])\n",
        "  generate_n = ([random.choice(string.digits) for n in range(n_size)])\n",
        "  \n",
        "  #for make easier to join item\n",
        "  for x in generate_c :\n",
        "    generate_l.append(x)\n",
        "  \n",
        "  for y in generate_n :\n",
        "    generate_l.append(y)\n",
        "\n",
        "  #for making list shuffle\n",
        "  random.shuffle(generate_l)\n",
        "\n",
        "  #for convert list into string\n",
        "  password = ''.join(generate_l)\n",
        "  \n",
        "  print(f\"\\nYour password is\\n{password}\")\n"
      ]
    }
  ]
}